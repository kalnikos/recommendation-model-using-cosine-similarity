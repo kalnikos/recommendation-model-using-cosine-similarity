{
 "cells": [
  {
   "cell_type": "code",
   "execution_count": 126,
   "metadata": {},
   "outputs": [],
   "source": [
    "import pandas as pd\n",
    "import numpy as np"
   ]
  },
  {
   "cell_type": "code",
   "execution_count": 127,
   "metadata": {},
   "outputs": [],
   "source": [
    "text_1 = \"I love playing football with my friends\"\n",
    "text_2 = \"I hate waching and playing basketball\"\n",
    "text_3 = \"When I was a kid I was playing football with my friends every day all the evening\""
   ]
  },
  {
   "cell_type": "code",
   "execution_count": 128,
   "metadata": {},
   "outputs": [
    {
     "data": {
      "text/plain": [
       "['I love playing football with my friends',\n",
       " 'I hate waching and playing basketball',\n",
       " 'When I was a kid I was playing football with my friends every day all the evening']"
      ]
     },
     "execution_count": 128,
     "metadata": {},
     "output_type": "execute_result"
    }
   ],
   "source": [
    "texts = [text_1, text_2, text_3]\n",
    "texts"
   ]
  },
  {
   "cell_type": "code",
   "execution_count": 129,
   "metadata": {},
   "outputs": [
    {
     "data": {
      "text/html": [
       "<div>\n",
       "<style scoped>\n",
       "    .dataframe tbody tr th:only-of-type {\n",
       "        vertical-align: middle;\n",
       "    }\n",
       "\n",
       "    .dataframe tbody tr th {\n",
       "        vertical-align: top;\n",
       "    }\n",
       "\n",
       "    .dataframe thead th {\n",
       "        text-align: right;\n",
       "    }\n",
       "</style>\n",
       "<table border=\"1\" class=\"dataframe\">\n",
       "  <thead>\n",
       "    <tr style=\"text-align: right;\">\n",
       "      <th></th>\n",
       "      <th>all</th>\n",
       "      <th>and</th>\n",
       "      <th>basketball</th>\n",
       "      <th>day</th>\n",
       "      <th>evening</th>\n",
       "      <th>every</th>\n",
       "      <th>football</th>\n",
       "      <th>friends</th>\n",
       "      <th>hate</th>\n",
       "      <th>kid</th>\n",
       "      <th>love</th>\n",
       "      <th>my</th>\n",
       "      <th>playing</th>\n",
       "      <th>the</th>\n",
       "      <th>waching</th>\n",
       "      <th>was</th>\n",
       "      <th>when</th>\n",
       "      <th>with</th>\n",
       "    </tr>\n",
       "  </thead>\n",
       "  <tbody>\n",
       "    <tr>\n",
       "      <th>text_1</th>\n",
       "      <td>0</td>\n",
       "      <td>0</td>\n",
       "      <td>0</td>\n",
       "      <td>0</td>\n",
       "      <td>0</td>\n",
       "      <td>0</td>\n",
       "      <td>1</td>\n",
       "      <td>1</td>\n",
       "      <td>0</td>\n",
       "      <td>0</td>\n",
       "      <td>1</td>\n",
       "      <td>1</td>\n",
       "      <td>1</td>\n",
       "      <td>0</td>\n",
       "      <td>0</td>\n",
       "      <td>0</td>\n",
       "      <td>0</td>\n",
       "      <td>1</td>\n",
       "    </tr>\n",
       "    <tr>\n",
       "      <th>text_2</th>\n",
       "      <td>0</td>\n",
       "      <td>1</td>\n",
       "      <td>1</td>\n",
       "      <td>0</td>\n",
       "      <td>0</td>\n",
       "      <td>0</td>\n",
       "      <td>0</td>\n",
       "      <td>0</td>\n",
       "      <td>1</td>\n",
       "      <td>0</td>\n",
       "      <td>0</td>\n",
       "      <td>0</td>\n",
       "      <td>1</td>\n",
       "      <td>0</td>\n",
       "      <td>1</td>\n",
       "      <td>0</td>\n",
       "      <td>0</td>\n",
       "      <td>0</td>\n",
       "    </tr>\n",
       "    <tr>\n",
       "      <th>text_2</th>\n",
       "      <td>1</td>\n",
       "      <td>0</td>\n",
       "      <td>0</td>\n",
       "      <td>1</td>\n",
       "      <td>1</td>\n",
       "      <td>1</td>\n",
       "      <td>1</td>\n",
       "      <td>1</td>\n",
       "      <td>0</td>\n",
       "      <td>1</td>\n",
       "      <td>0</td>\n",
       "      <td>1</td>\n",
       "      <td>1</td>\n",
       "      <td>1</td>\n",
       "      <td>0</td>\n",
       "      <td>2</td>\n",
       "      <td>1</td>\n",
       "      <td>1</td>\n",
       "    </tr>\n",
       "  </tbody>\n",
       "</table>\n",
       "</div>"
      ],
      "text/plain": [
       "        all  and  basketball  day  evening  every  football  friends  hate  \\\n",
       "text_1    0    0           0    0        0      0         1        1     0   \n",
       "text_2    0    1           1    0        0      0         0        0     1   \n",
       "text_2    1    0           0    1        1      1         1        1     0   \n",
       "\n",
       "        kid  love  my  playing  the  waching  was  when  with  \n",
       "text_1    0     1   1        1    0        0    0     0     1  \n",
       "text_2    0     0   0        1    0        1    0     0     0  \n",
       "text_2    1     0   1        1    1        0    2     1     1  "
      ]
     },
     "execution_count": 129,
     "metadata": {},
     "output_type": "execute_result"
    }
   ],
   "source": [
    "from sklearn.feature_extraction.text import CountVectorizer\n",
    "\n",
    "## Firstly let's count the words using the CountVectorizer\n",
    "count_vectorizer = CountVectorizer(stop_words='english')\n",
    "count_vectorizer = CountVectorizer()\n",
    "matrix = count_vectorizer.fit_transform(texts)\n",
    "\n",
    "## we can create a dataframe to represent the number of the words in every sentence\n",
    "table = matrix.todense()\n",
    "df = pd.DataFrame(table, \n",
    "                  columns=count_vectorizer.get_feature_names(), \n",
    "                  index=['text_1', 'text_2', 'text_2'])\n",
    "df"
   ]
  },
  {
   "cell_type": "code",
   "execution_count": 130,
   "metadata": {},
   "outputs": [
    {
     "data": {
      "text/html": [
       "<div>\n",
       "<style scoped>\n",
       "    .dataframe tbody tr th:only-of-type {\n",
       "        vertical-align: middle;\n",
       "    }\n",
       "\n",
       "    .dataframe tbody tr th {\n",
       "        vertical-align: top;\n",
       "    }\n",
       "\n",
       "    .dataframe thead th {\n",
       "        text-align: right;\n",
       "    }\n",
       "</style>\n",
       "<table border=\"1\" class=\"dataframe\">\n",
       "  <thead>\n",
       "    <tr style=\"text-align: right;\">\n",
       "      <th></th>\n",
       "      <th>Text_1</th>\n",
       "      <th>Text_2</th>\n",
       "      <th>Text_3</th>\n",
       "    </tr>\n",
       "  </thead>\n",
       "  <tbody>\n",
       "    <tr>\n",
       "      <th>text_1</th>\n",
       "      <td>0.000000</td>\n",
       "      <td>3.000000</td>\n",
       "      <td>3.464102</td>\n",
       "    </tr>\n",
       "    <tr>\n",
       "      <th>text_2</th>\n",
       "      <td>3.000000</td>\n",
       "      <td>0.000000</td>\n",
       "      <td>4.358899</td>\n",
       "    </tr>\n",
       "    <tr>\n",
       "      <th>text_3</th>\n",
       "      <td>3.464102</td>\n",
       "      <td>4.358899</td>\n",
       "      <td>0.000000</td>\n",
       "    </tr>\n",
       "  </tbody>\n",
       "</table>\n",
       "</div>"
      ],
      "text/plain": [
       "          Text_1    Text_2    Text_3\n",
       "text_1  0.000000  3.000000  3.464102\n",
       "text_2  3.000000  0.000000  4.358899\n",
       "text_3  3.464102  4.358899  0.000000"
      ]
     },
     "execution_count": 130,
     "metadata": {},
     "output_type": "execute_result"
    }
   ],
   "source": [
    "## Compute the Euclidean distance of these sentences\n",
    "from scipy.spatial import distance\n",
    "\n",
    "matrix = distance.cdist(df, df, 'euclidean')\n",
    "\n",
    "df_eucl = pd.DataFrame(matrix, \n",
    "                  columns= [\"Text_1\", \"Text_2\", \"Text_3\"],\n",
    "                  index=['text_1', 'text_2', 'text_3'])\n",
    "df_eucl\n"
   ]
  },
  {
   "cell_type": "code",
   "execution_count": 131,
   "metadata": {},
   "outputs": [
    {
     "data": {
      "text/html": [
       "<div>\n",
       "<style scoped>\n",
       "    .dataframe tbody tr th:only-of-type {\n",
       "        vertical-align: middle;\n",
       "    }\n",
       "\n",
       "    .dataframe tbody tr th {\n",
       "        vertical-align: top;\n",
       "    }\n",
       "\n",
       "    .dataframe thead th {\n",
       "        text-align: right;\n",
       "    }\n",
       "</style>\n",
       "<table border=\"1\" class=\"dataframe\">\n",
       "  <thead>\n",
       "    <tr style=\"text-align: right;\">\n",
       "      <th></th>\n",
       "      <th>Text 1</th>\n",
       "      <th>Text 2</th>\n",
       "      <th>Text 3</th>\n",
       "    </tr>\n",
       "  </thead>\n",
       "  <tbody>\n",
       "    <tr>\n",
       "      <th>Text 1</th>\n",
       "      <td>1.000000</td>\n",
       "      <td>0.182574</td>\n",
       "      <td>0.510310</td>\n",
       "    </tr>\n",
       "    <tr>\n",
       "      <th>Text 2</th>\n",
       "      <td>0.182574</td>\n",
       "      <td>1.000000</td>\n",
       "      <td>0.111803</td>\n",
       "    </tr>\n",
       "    <tr>\n",
       "      <th>Text 3</th>\n",
       "      <td>0.510310</td>\n",
       "      <td>0.111803</td>\n",
       "      <td>1.000000</td>\n",
       "    </tr>\n",
       "  </tbody>\n",
       "</table>\n",
       "</div>"
      ],
      "text/plain": [
       "          Text 1    Text 2    Text 3\n",
       "Text 1  1.000000  0.182574  0.510310\n",
       "Text 2  0.182574  1.000000  0.111803\n",
       "Text 3  0.510310  0.111803  1.000000"
      ]
     },
     "execution_count": 131,
     "metadata": {},
     "output_type": "execute_result"
    }
   ],
   "source": [
    "## Finally we can compute the Cosine Similarity \n",
    "\n",
    "from sklearn.metrics.pairwise import cosine_similarity\n",
    "values = cosine_similarity(df, df)\n",
    "df = pd.DataFrame(values, columns=[\"Text 1\", \"Text 2\", \"Text 3\"], index = [\"Text 1\", \"Text 2\", \"Text 3\"])\n",
    "df"
   ]
  },
  {
   "cell_type": "code",
   "execution_count": null,
   "metadata": {},
   "outputs": [],
   "source": [
    "## As we can see the higher the similarity we are getting closer to 1 lower closer to 0."
   ]
  },
  {
   "cell_type": "code",
   "execution_count": 41,
   "metadata": {},
   "outputs": [],
   "source": [
    "## Draw a graph in order to represent the Euclidean distance and cosine similarity\n",
    "doc_1 = [10,12]\n",
    "doc_2 = [7,5]\n",
    "df = pd.DataFrame([doc_1, doc_2], columns=(\"Data\", \"Science\"), index=[\"Doc 1\", \"Doc 2\"])"
   ]
  },
  {
   "cell_type": "code",
   "execution_count": 42,
   "metadata": {},
   "outputs": [
    {
     "data": {
      "text/html": [
       "<div>\n",
       "<style scoped>\n",
       "    .dataframe tbody tr th:only-of-type {\n",
       "        vertical-align: middle;\n",
       "    }\n",
       "\n",
       "    .dataframe tbody tr th {\n",
       "        vertical-align: top;\n",
       "    }\n",
       "\n",
       "    .dataframe thead th {\n",
       "        text-align: right;\n",
       "    }\n",
       "</style>\n",
       "<table border=\"1\" class=\"dataframe\">\n",
       "  <thead>\n",
       "    <tr style=\"text-align: right;\">\n",
       "      <th></th>\n",
       "      <th>Data</th>\n",
       "      <th>Science</th>\n",
       "    </tr>\n",
       "  </thead>\n",
       "  <tbody>\n",
       "    <tr>\n",
       "      <th>Doc 1</th>\n",
       "      <td>10</td>\n",
       "      <td>12</td>\n",
       "    </tr>\n",
       "    <tr>\n",
       "      <th>Doc 2</th>\n",
       "      <td>7</td>\n",
       "      <td>5</td>\n",
       "    </tr>\n",
       "  </tbody>\n",
       "</table>\n",
       "</div>"
      ],
      "text/plain": [
       "       Data  Science\n",
       "Doc 1    10       12\n",
       "Doc 2     7        5"
      ]
     },
     "execution_count": 42,
     "metadata": {},
     "output_type": "execute_result"
    }
   ],
   "source": [
    "df"
   ]
  },
  {
   "cell_type": "code",
   "execution_count": 72,
   "metadata": {},
   "outputs": [
    {
     "data": {
      "image/png": "[encoded data removed]",
      "text/plain": [
       "<Figure size 720x360 with 1 Axes>"
      ]
     },
     "metadata": {
      "needs_background": "light"
     },
     "output_type": "display_data"
    }
   ],
   "source": [
    "import matplotlib.pyplot as plt\n",
    "\n",
    "fig, ax = plt.subplots(figsize=(10,5))\n",
    "ax.scatter(df.Data, df.Science)\n",
    "\n",
    "for i, txt in enumerate(df.index):\n",
    "    ax.annotate(txt, (df.Data[i], df.Science[i]))\n",
    "\n",
    "\n",
    "plt.title(\"Euclidean distance\", fontsize=20) \n",
    "plt.plot(df.Data, df.Science, label=\"Euclidean Distance\", color=\"r\")\n",
    "\n",
    "\n",
    "plt.xticks(np.arange(0,16))\n",
    "plt.yticks(np.arange(0,16))\n",
    "\n",
    "plt.xlabel(\"Word: Data\", fontsize=15)\n",
    "plt.ylabel(\"Word: Science\", fontsize=15)\n",
    "plt.legend()\n",
    "\n",
    "plt.show()\n",
    "\n"
   ]
  },
  {
   "cell_type": "code",
   "execution_count": 97,
   "metadata": {},
   "outputs": [
    {
     "data": {
      "image/png": "[encoded data removed]",
      "text/plain": [
       "<Figure size 720x360 with 1 Axes>"
      ]
     },
     "metadata": {
      "needs_background": "light"
     },
     "output_type": "display_data"
    }
   ],
   "source": [
    "fig, ax = plt.subplots(figsize=(10,5))\n",
    "ax.scatter(df.Data, df.Science)\n",
    "\n",
    "for i, txt in enumerate(df.index):\n",
    "    ax.annotate(txt, (df.Data[i], df.Science[i]))\n",
    "\n",
    "plt.title(\"Euclidean distance\", fontsize=20) \n",
    "\n",
    "line_2 = plt.plot([0,7], [0,5])\n",
    "line_1 = plt.plot([0,10], [0,12])\n",
    "\n",
    "\n",
    "plt.xticks(np.arange(0,16))\n",
    "plt.yticks(np.arange(0,16))\n",
    "\n",
    "plt.xlabel(\"Word: Data\", fontsize=15)\n",
    "plt.ylabel(\"Word: Science\", fontsize=15)\n",
    "\n",
    "\n",
    "plt.show()"
   ]
  },
  {
   "cell_type": "code",
   "execution_count": 114,
   "metadata": {},
   "outputs": [
    {
     "data": {
      "text/html": [
       "<div>\n",
       "<style scoped>\n",
       "    .dataframe tbody tr th:only-of-type {\n",
       "        vertical-align: middle;\n",
       "    }\n",
       "\n",
       "    .dataframe tbody tr th {\n",
       "        vertical-align: top;\n",
       "    }\n",
       "\n",
       "    .dataframe thead th {\n",
       "        text-align: right;\n",
       "    }\n",
       "</style>\n",
       "<table border=\"1\" class=\"dataframe\">\n",
       "  <thead>\n",
       "    <tr style=\"text-align: right;\">\n",
       "      <th></th>\n",
       "      <th>Data</th>\n",
       "      <th>Science</th>\n",
       "    </tr>\n",
       "  </thead>\n",
       "  <tbody>\n",
       "    <tr>\n",
       "      <th>Doc 1</th>\n",
       "      <td>10</td>\n",
       "      <td>12</td>\n",
       "    </tr>\n",
       "    <tr>\n",
       "      <th>Doc 2</th>\n",
       "      <td>7</td>\n",
       "      <td>5</td>\n",
       "    </tr>\n",
       "    <tr>\n",
       "      <th>Doc_3</th>\n",
       "      <td>11</td>\n",
       "      <td>18</td>\n",
       "    </tr>\n",
       "  </tbody>\n",
       "</table>\n",
       "</div>"
      ],
      "text/plain": [
       "       Data  Science\n",
       "Doc 1    10       12\n",
       "Doc 2     7        5\n",
       "Doc_3    11       18"
      ]
     },
     "execution_count": 114,
     "metadata": {},
     "output_type": "execute_result"
    }
   ],
   "source": [
    "doc_1 = [10,12]\n",
    "doc_2 = [7,5]\n",
    "doc_3 = [11,18]\n",
    "df = pd.DataFrame([doc_1, doc_2, doc_3], columns=(\"Data\", \"Science\"), index=[\"Doc 1\", \"Doc 2\", \"Doc_3\"])\n",
    "df"
   ]
  },
  {
   "cell_type": "code",
   "execution_count": 115,
   "metadata": {},
   "outputs": [
    {
     "data": {
      "image/png": "[encoded data removed]",
      "text/plain": [
       "<Figure size 720x360 with 1 Axes>"
      ]
     },
     "metadata": {
      "needs_background": "light"
     },
     "output_type": "display_data"
    }
   ],
   "source": [
    "fig, ax = plt.subplots(figsize=(10,5))\n",
    "ax.scatter(df.Data, df.Science)\n",
    "\n",
    "for i, txt in enumerate(df.index):\n",
    "    ax.annotate(txt, (df.Data[i], df.Science[i]))\n",
    "\n",
    "\n",
    "plt.title(\"Euclidean distance\", fontsize=20) \n",
    "\n",
    "line_2 = plt.plot([0,7], [0,5])\n",
    "line_1 = plt.plot([0,10], [0,12])\n",
    "line_3 = plt.plot([0,11],[0,18])\n",
    "\n",
    "\n",
    "plt.xticks(np.arange(0,26))\n",
    "plt.yticks(np.arange(0,26))\n",
    "\n",
    "plt.xlabel(\"Word: Data\", fontsize=15)\n",
    "plt.ylabel(\"Word: Science\", fontsize=15)\n",
    "\n",
    "plt.show()"
   ]
  },
  {
   "cell_type": "code",
   "execution_count": null,
   "metadata": {},
   "outputs": [],
   "source": []
  }
 ],
 "metadata": {
  "kernelspec": {
   "display_name": "Python 3.7 (tensorflow)",
   "language": "python",
   "name": "tensorflow"
  },
  "language_info": {
   "codemirror_mode": {
    "name": "ipython",
    "version": 3
   },
   "file_extension": ".py",
   "mimetype": "text/x-python",
   "name": "python",
   "nbconvert_exporter": "python",
   "pygments_lexer": "ipython3",
   "version": "3.7.9"
  }
 },
 "nbformat": 4,
 "nbformat_minor": 4
}
