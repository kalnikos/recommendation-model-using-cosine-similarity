{
 "cells": [
  {
   "cell_type": "code",
   "execution_count": 69,
   "metadata": {},
   "outputs": [],
   "source": [
    "import pandas as pd\n",
    "from selenium import webdriver\n",
    "from bs4 import BeautifulSoup as bs\n",
    "import requests\n",
    "import csv\n",
    "import urllib.request\n",
    "import time"
   ]
  },
  {
   "cell_type": "code",
   "execution_count": 70,
   "metadata": {},
   "outputs": [],
   "source": [
    "## Creating a funtion that could manage different positions and areas\n",
    "def get_url(position, area):\n",
    "    #templ = \"https://www.indeed.co.uk/jobs?q={}&l={}\"\n",
    "    templ = \"https://www.indeed.co.uk/jobs?q={}&l={}\"\n",
    "    #position = position.replace(' ', '+')\n",
    "    #area = area.replace(' ', '+')\n",
    "    url = templ.format(position, area)\n",
    "    return url    "
   ]
  },
  {
   "cell_type": "code",
   "execution_count": 71,
   "metadata": {},
   "outputs": [
    {
     "data": {
      "text/plain": [
       "'https://www.indeed.co.uk/jobs?q=engineer&l=London'"
      ]
     },
     "execution_count": 71,
     "metadata": {},
     "output_type": "execute_result"
    }
   ],
   "source": [
    "## here you can adapt the script to another search \n",
    "url = get_url(\"engineer\", \"London\")\n",
    "url"
   ]
  },
  {
   "cell_type": "markdown",
   "metadata": {},
   "source": [
    "## Extract the html"
   ]
  },
  {
   "cell_type": "code",
   "execution_count": 72,
   "metadata": {},
   "outputs": [],
   "source": [
    "## Let's also use Selenium to open a web browser which will be helpfull for parsing the esential information \n",
    "browser = webdriver.Chrome()"
   ]
  },
  {
   "cell_type": "code",
   "execution_count": 73,
   "metadata": {},
   "outputs": [],
   "source": [
    "## Get the URL and give some sec to the browser to load the page\n",
    "browser.get(url)\n",
    "time.sleep(2)"
   ]
  },
  {
   "cell_type": "code",
   "execution_count": 74,
   "metadata": {},
   "outputs": [
    {
     "data": {
      "text/plain": [
       "15"
      ]
     },
     "execution_count": 74,
     "metadata": {},
     "output_type": "execute_result"
    }
   ],
   "source": [
    "## Firstly, working alongside with the webpage let's parse all the job cards of the page\n",
    "#soup = bs(response.text, \"html.parser\")\n",
    "soup = bs(browser.page_source, \"html.parser\")\n",
    "cards = soup.find_all(\"div\", \"jobsearch-SerpJobCard\")\n",
    "len(cards)"
   ]
  },
  {
   "cell_type": "code",
   "execution_count": 75,
   "metadata": {},
   "outputs": [],
   "source": [
    "def get_features(card):\n",
    "    try:\n",
    "        atag = card.h2.a\n",
    "        job_title = atag.get(\"title\")\n",
    "    except:\n",
    "        job_title = None\n",
    "    try:\n",
    "        job_url = \"http://www.indeed.com\" + atag.get(\"href\")\n",
    "    except:\n",
    "        job_url = None\n",
    "    try:\n",
    "        company_name = card.find(\"span\", \"company\").text.strip()\n",
    "    except:\n",
    "        company_name = None\n",
    "    try:\n",
    "        location = card.find(\"div\", \"recJobLoc\").get(\"data-rc-loc\")\n",
    "    except:\n",
    "        location = None\n",
    "    try:\n",
    "        summary = card.find(\"div\", \"summary\").text.strip()\n",
    "    except:\n",
    "        summary = None\n",
    "    try:\n",
    "        post_date = card.find(\"span\", \"date\").text\n",
    "    except:\n",
    "        post_date = None\n",
    "   \n",
    "    ## Opening a new page in order to scrape the full job description\n",
    "\n",
    "    try:\n",
    "        new_urls = [x.find('h2', attrs={'class': 'title'}).find('a', href=True)['href'] for x in cards]\n",
    "        new_urls = \"http://www.indeed.com\" + atag.get(\"href\")\n",
    "        page = urllib.request.urlopen(new_urls)\n",
    "        soup = bs(page.read(), \"html.parser\")\n",
    "        job_body = soup.find('div', attrs={'id': \"jobDescriptionText\"}).text.replace(\"\\n\", \"\")\n",
    "    except:\n",
    "        job_body = None\n",
    "\n",
    "\n",
    "    ## Saving the features to a list    \n",
    "    \n",
    "    feature = (job_title, job_url, company_name, location, summary, post_date, job_body)\n",
    "    return feature \n",
    "    "
   ]
  },
  {
   "cell_type": "markdown",
   "metadata": {},
   "source": [
    "## Getting results from all the pages\n",
    "\n"
   ]
  },
  {
   "cell_type": "code",
   "execution_count": 76,
   "metadata": {},
   "outputs": [],
   "source": [
    "features = []\n",
    "i = 0\n",
    "while i<2:\n",
    "    try:\n",
    "        url = 'https://www.indeed.co.uk' + soup.find(\"a\", {\"aria-label\": \"Next\"}).get(\"href\")\n",
    "    except AttributeError:\n",
    "         break\n",
    "            \n",
    "    response = requests.get(url)\n",
    "    soup = bs(response.text, \"html.parser\")\n",
    "    cards = soup.find_all(\"div\", \"jobsearch-SerpJobCard\")\n",
    "    for card in cards:\n",
    "            feature = get_features(card)\n",
    "            features.append(feature)\n",
    "    i += 1\n",
    "          "
   ]
  },
  {
   "cell_type": "code",
   "execution_count": 77,
   "metadata": {},
   "outputs": [
    {
     "name": "stdout",
     "output_type": "stream",
     "text": [
      "30\n"
     ]
    }
   ],
   "source": [
    "print(len(features))"
   ]
  },
  {
   "cell_type": "code",
   "execution_count": 78,
   "metadata": {},
   "outputs": [],
   "source": [
    "## Convert the list to csv file\n",
    "with open('data_set_engineer.csv', 'w', newline='', encoding='utf-8') as f:\n",
    "        writer = csv.writer(f)\n",
    "        writer.writerow(['Job Title','Job Url', 'Company', 'Location','Summary', 'Posting Date', \"Desc\"])\n",
    "        writer.writerows(features)"
   ]
  },
  {
   "cell_type": "code",
   "execution_count": 79,
   "metadata": {},
   "outputs": [
    {
     "data": {
      "text/html": [
       "<div>\n",
       "<style scoped>\n",
       "    .dataframe tbody tr th:only-of-type {\n",
       "        vertical-align: middle;\n",
       "    }\n",
       "\n",
       "    .dataframe tbody tr th {\n",
       "        vertical-align: top;\n",
       "    }\n",
       "\n",
       "    .dataframe thead th {\n",
       "        text-align: right;\n",
       "    }\n",
       "</style>\n",
       "<table border=\"1\" class=\"dataframe\">\n",
       "  <thead>\n",
       "    <tr style=\"text-align: right;\">\n",
       "      <th></th>\n",
       "      <th>Job Title</th>\n",
       "      <th>Job Url</th>\n",
       "      <th>Company</th>\n",
       "      <th>Location</th>\n",
       "      <th>Summary</th>\n",
       "      <th>Posting Date</th>\n",
       "      <th>Desc</th>\n",
       "    </tr>\n",
       "  </thead>\n",
       "  <tbody>\n",
       "    <tr>\n",
       "      <th>0</th>\n",
       "      <td>Graduate Mechanical Design Engineer</td>\n",
       "      <td>http://www.indeed.com/company/Panorama-Antenna...</td>\n",
       "      <td>Panorama Antennas Ltd</td>\n",
       "      <td>Wandsworth</td>\n",
       "      <td>This graduate mechanical design engineer posit...</td>\n",
       "      <td>Today</td>\n",
       "      <td>OpportunityThis is a fantastic opportunity to ...</td>\n",
       "    </tr>\n",
       "    <tr>\n",
       "      <th>1</th>\n",
       "      <td>Drainage Engineer</td>\n",
       "      <td>http://www.indeed.com/rc/clk?jk=c2833a00ab34da...</td>\n",
       "      <td>Lanes Group Plc</td>\n",
       "      <td>London</td>\n",
       "      <td>We require a drainage assistant to assist a dr...</td>\n",
       "      <td>30+ days ago</td>\n",
       "      <td>At the Lanes Group nothing is more important t...</td>\n",
       "    </tr>\n",
       "    <tr>\n",
       "      <th>2</th>\n",
       "      <td>Engineer</td>\n",
       "      <td>http://www.indeed.com/rc/clk?jk=f48e7d5b1bb0a4...</td>\n",
       "      <td>Bakkavor</td>\n",
       "      <td>London</td>\n",
       "      <td>4 on 4 off Shift Pattern – 18.30 – 06.30.\\nIn ...</td>\n",
       "      <td>Just posted</td>\n",
       "      <td>Multi Skilled Engineer (Nights) – Harrow4 on 4...</td>\n",
       "    </tr>\n",
       "    <tr>\n",
       "      <th>3</th>\n",
       "      <td>Highways Engineer</td>\n",
       "      <td>http://www.indeed.com/rc/clk?jk=06c5a095fe9f22...</td>\n",
       "      <td>NSL Ltd</td>\n",
       "      <td>London</td>\n",
       "      <td>We offer a range of services focused on provid...</td>\n",
       "      <td>15 days ago</td>\n",
       "      <td>Project Centre is a leading design, engineerin...</td>\n",
       "    </tr>\n",
       "    <tr>\n",
       "      <th>4</th>\n",
       "      <td>Domestic Gas Engineer</td>\n",
       "      <td>http://www.indeed.com/pagead/clk?mo=r&amp;ad=-6NYl...</td>\n",
       "      <td>Fixxa</td>\n",
       "      <td>South London</td>\n",
       "      <td>Spend less time travelling and more time on th...</td>\n",
       "      <td>Today</td>\n",
       "      <td>About FixxaFixxa is an innovative booking plat...</td>\n",
       "    </tr>\n",
       "  </tbody>\n",
       "</table>\n",
       "</div>"
      ],
      "text/plain": [
       "                             Job Title  \\\n",
       "0  Graduate Mechanical Design Engineer   \n",
       "1                    Drainage Engineer   \n",
       "2                             Engineer   \n",
       "3                    Highways Engineer   \n",
       "4                Domestic Gas Engineer   \n",
       "\n",
       "                                             Job Url                Company  \\\n",
       "0  http://www.indeed.com/company/Panorama-Antenna...  Panorama Antennas Ltd   \n",
       "1  http://www.indeed.com/rc/clk?jk=c2833a00ab34da...        Lanes Group Plc   \n",
       "2  http://www.indeed.com/rc/clk?jk=f48e7d5b1bb0a4...               Bakkavor   \n",
       "3  http://www.indeed.com/rc/clk?jk=06c5a095fe9f22...                NSL Ltd   \n",
       "4  http://www.indeed.com/pagead/clk?mo=r&ad=-6NYl...                  Fixxa   \n",
       "\n",
       "       Location                                            Summary  \\\n",
       "0    Wandsworth  This graduate mechanical design engineer posit...   \n",
       "1        London  We require a drainage assistant to assist a dr...   \n",
       "2        London  4 on 4 off Shift Pattern – 18.30 – 06.30.\\nIn ...   \n",
       "3        London  We offer a range of services focused on provid...   \n",
       "4  South London  Spend less time travelling and more time on th...   \n",
       "\n",
       "   Posting Date                                               Desc  \n",
       "0         Today  OpportunityThis is a fantastic opportunity to ...  \n",
       "1  30+ days ago  At the Lanes Group nothing is more important t...  \n",
       "2   Just posted  Multi Skilled Engineer (Nights) – Harrow4 on 4...  \n",
       "3   15 days ago  Project Centre is a leading design, engineerin...  \n",
       "4         Today  About FixxaFixxa is an innovative booking plat...  "
      ]
     },
     "execution_count": 79,
     "metadata": {},
     "output_type": "execute_result"
    }
   ],
   "source": [
    "df = pd.read_csv(\"data_set_engineer.csv\")\n",
    "df.head()"
   ]
  },
  {
   "cell_type": "code",
   "execution_count": null,
   "metadata": {},
   "outputs": [],
   "source": []
  }
 ],
 "metadata": {
  "kernelspec": {
   "display_name": "Python 3.7 (tensorflow)",
   "language": "python",
   "name": "tensorflow"
  },
  "language_info": {
   "codemirror_mode": {
    "name": "ipython",
    "version": 3
   },
   "file_extension": ".py",
   "mimetype": "text/x-python",
   "name": "python",
   "nbconvert_exporter": "python",
   "pygments_lexer": "ipython3",
   "version": "3.7.9"
  }
 },
 "nbformat": 4,
 "nbformat_minor": 4
}
